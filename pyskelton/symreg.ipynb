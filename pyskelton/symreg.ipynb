{
 "cells": [
  {
   "cell_type": "code",
   "execution_count": 5,
   "id": "36d2778b-5848-4411-9960-17757bcd3b68",
   "metadata": {
    "tags": []
   },
   "outputs": [],
   "source": [
    "import symreg\n",
    "import numpy as np\n",
    "import pandas as pd\n",
    "import random"
   ]
  },
  {
   "cell_type": "code",
   "execution_count": 22,
   "id": "f69a9a79-218b-4a86-a19f-fec7dd807315",
   "metadata": {
    "tags": []
   },
   "outputs": [
    {
     "name": "stdout",
     "output_type": "stream",
     "text": [
      "[{'error': 6.288947216303038, 'complexity': 1, 'program': Program('$3', 5)}, {'error': 5.331228173190428, 'complexity': 3, 'program': Program('mul $3 2.798416176703998', 5)}, {'error': 4.470616557170115, 'complexity': 5, 'program': Program('add 2.9426000719414342 mul $3 2.561038506499553', 5)}, {'error': 4.470481614484026, 'complexity': 7, 'program': Program('sub add mul $3 2.554602684260752 3.119767645503189 0.18586211930709387', 5)}, {'error': 4.136513374796751, 'complexity': 10, 'program': Program('sub add mul $3 2.5791568511681957 3.119767645503189 rec sub 3.0 $3', 5)}, {'error': 4.128329528644983, 'complexity': 12, 'program': Program('mul sub add mul $3 2.5791568511681957 3.415996929062474 rec sub 3.0 $3 0.9526438743679327', 5)}, {'error': 4.092661287218039, 'complexity': 14, 'program': Program('sub add mul $3 2.5791568511681957 2.9426000719414342 rec add sub 3.0 $3 sub 3.119767645503189 $4', 5)}, {'error': 4.002141826574997, 'complexity': 15, 'program': Program('sub sub add 2.9426000719414342 mul $3 2.5791568511681957 rec add -4.831472629377206 $0 rec sub 3.0 $3', 5)}, {'error': 3.861714560862232, 'complexity': 17, 'program': Program('sub sub add mul $3 2.554602684260752 3.5147467176904237 rec add 3.0 sub 0.6931471805599453 $0 rec sub 3.0 $3', 5)}, {'error': 3.8520020737366, 'complexity': 19, 'program': Program('sub sub sub add mul $3 2.328556239444066 3.5147467176904237 rec add 3.0 sub 0.6931471805599453 $0 0.04614030778795016 rec sub 3.0 $3', 5)}, {'error': 3.7510742377635444, 'complexity': 22, 'program': Program('sub sub sub add mul $3 2.5791568511681957 3.2821930455162227 rec add 3.0 sub 0.6931471805599453 $0 rec add -4.831472629377206 $0 rec sub 3.0 $3', 5)}, {'error': 3.717481450501517, 'complexity': 26, 'program': Program('mul sub sub sub add mul $3 2.561038506499553 3.5147467176904237 rec add 3.6344509948436876 sub 0.6931471805599453 $0 rec add 3.0 sub 0.6931471805599453 $0 rec sub 3.0 $3 0.9526438743679327', 5)}, {'error': 3.6667873537149402, 'complexity': 32, 'program': Program('sub sub add sub add mul $3 2.5791568511681957 3.5460712994050683 rec add 3.0 sub 0.6931471805599453 $0 -0.3250903050336787 rec add 3.0 sub sub add mul $3 2.5791568511681957 3.119767645503189 0.10681226962192099 $0 rec sub 3.0 $3', 5)}, {'error': 3.648741106347038, 'complexity': 35, 'program': Program('sub sub sub sub add mul $3 2.561038506499553 3.5147467176904237 rec add 3.0 sub 0.6931471805599453 $0 rec add 3.0 sub 0.6931471805599453 $0 rec add 3.0 sub add 2.9426000719414342 mul $3 2.561038506499553 $0 rec sub 3.0 $3', 5)}, {'error': 3.6478957482759564, 'complexity': 38, 'program': Program('sub sub sub sub add mul $3 2.5791568511681957 3.5147467176904237 rec add 3.0 sub 0.6931471805599453 $0 rec add 3.0 $0 rec add 3.0 sub sub add mul $3 2.5791568511681957 3.119767645503189 rec sub 3.0 -6.3622203098919154 $0 rec sub 3.0 $3', 5)}, {'error': 3.5732856415185275, 'complexity': 39, 'program': Program('sub sub sub sub add mul $3 2.5791568511681957 3.5147467176904237 rec add 3.0 sub 0.6931471805599453 $0 rec add 2.5791568511681957 sub add 3.0 sub sub add mul $3 2.561038506499553 3.5147467176904237 -1.345758563698332 $0 $0 rec add 3.0 6.88854617943914 rec sub 3.0 $3', 5)}, {'error': 3.5716781568762808, 'complexity': 41, 'program': Program('sub sub sub sub add mul $3 2.5791568511681957 3.5147467176904237 rec add 3.0 sub 0.6931471805599453 $0 rec add 2.5791568511681957 sub add 3.0 sub sub add mul $3 2.561038506499553 3.5147467176904237 -1.345758563698332 $0 $0 rec add 3.0 xor 0.6931471805599453 $0 rec sub 3.0 $3', 5)}, {'error': 3.5237067287482646, 'complexity': 46, 'program': Program('sub sub sub sub add mul $3 2.5791568511681957 3.5147467176904237 rec add 3.0 sub 0.6931471805599453 $0 rec add 2.561038506499553 sub add 3.0 sub sub add mul $3 2.561038506499553 3.5147467176904237 rec add 3.0 sub 0.6931471805599453 4.436222518867183 $0 $0 rec add 3.0 sub 0.6931471805599453 $0 rec sub 3.0 $3', 5)}]\n"
     ]
    }
   ],
   "source": [
    "symreg.ga.blocks['xor'] = (lambda x, y: np.logical_xor(x, y).astype(int), 2)\n",
    "\n",
    "random.seed(0)\n",
    "r = symreg.Regressor(generations=500)\n",
    "#X = [[0, 0], [0, 1], [1, 0], [1, 1]]\n",
    "#y = [0, 1, 1, 0]\n",
    "X = 2 * np.random.randn(100, 5)\n",
    "#y = 2.5382 * np.cos(X[:, 3]) + X[:, 0] ** 2 - 0.5\n",
    "y = 2.5382 * (X[:, 3]) + X[:, 0] ** 2 - 0.5\n",
    "\n",
    "\n",
    "r.fit(X, y)\n",
    "# There should be an xor operation in the results:\n",
    "print(r.results())"
   ]
  },
  {
   "cell_type": "code",
   "execution_count": 23,
   "id": "51f6b2d6-e4f8-4625-b207-029bbbe389b9",
   "metadata": {
    "tags": []
   },
   "outputs": [
    {
     "data": {
      "text/html": [
       "<div>\n",
       "<style scoped>\n",
       "    .dataframe tbody tr th:only-of-type {\n",
       "        vertical-align: middle;\n",
       "    }\n",
       "\n",
       "    .dataframe tbody tr th {\n",
       "        vertical-align: top;\n",
       "    }\n",
       "\n",
       "    .dataframe thead th {\n",
       "        text-align: right;\n",
       "    }\n",
       "</style>\n",
       "<table border=\"1\" class=\"dataframe\">\n",
       "  <thead>\n",
       "    <tr style=\"text-align: right;\">\n",
       "      <th></th>\n",
       "      <th>error</th>\n",
       "      <th>complexity</th>\n",
       "      <th>program</th>\n",
       "    </tr>\n",
       "  </thead>\n",
       "  <tbody>\n",
       "    <tr>\n",
       "      <th>0</th>\n",
       "      <td>6.288947</td>\n",
       "      <td>1</td>\n",
       "      <td>Program('$3', 5)</td>\n",
       "    </tr>\n",
       "    <tr>\n",
       "      <th>1</th>\n",
       "      <td>5.331228</td>\n",
       "      <td>3</td>\n",
       "      <td>Program('mul $3 2.798416176703998', 5)</td>\n",
       "    </tr>\n",
       "    <tr>\n",
       "      <th>2</th>\n",
       "      <td>4.470617</td>\n",
       "      <td>5</td>\n",
       "      <td>Program('add 2.9426000719414342 mul $3 2.56103...</td>\n",
       "    </tr>\n",
       "    <tr>\n",
       "      <th>3</th>\n",
       "      <td>4.470482</td>\n",
       "      <td>7</td>\n",
       "      <td>Program('sub add mul $3 2.554602684260752 3.11...</td>\n",
       "    </tr>\n",
       "    <tr>\n",
       "      <th>4</th>\n",
       "      <td>4.136513</td>\n",
       "      <td>10</td>\n",
       "      <td>Program('sub add mul $3 2.5791568511681957 3.1...</td>\n",
       "    </tr>\n",
       "    <tr>\n",
       "      <th>5</th>\n",
       "      <td>4.128330</td>\n",
       "      <td>12</td>\n",
       "      <td>Program('mul sub add mul $3 2.5791568511681957...</td>\n",
       "    </tr>\n",
       "    <tr>\n",
       "      <th>6</th>\n",
       "      <td>4.092661</td>\n",
       "      <td>14</td>\n",
       "      <td>Program('sub add mul $3 2.5791568511681957 2.9...</td>\n",
       "    </tr>\n",
       "    <tr>\n",
       "      <th>7</th>\n",
       "      <td>4.002142</td>\n",
       "      <td>15</td>\n",
       "      <td>Program('sub sub add 2.9426000719414342 mul $3...</td>\n",
       "    </tr>\n",
       "    <tr>\n",
       "      <th>8</th>\n",
       "      <td>3.861715</td>\n",
       "      <td>17</td>\n",
       "      <td>Program('sub sub add mul $3 2.554602684260752 ...</td>\n",
       "    </tr>\n",
       "    <tr>\n",
       "      <th>9</th>\n",
       "      <td>3.852002</td>\n",
       "      <td>19</td>\n",
       "      <td>Program('sub sub sub add mul $3 2.328556239444...</td>\n",
       "    </tr>\n",
       "    <tr>\n",
       "      <th>10</th>\n",
       "      <td>3.751074</td>\n",
       "      <td>22</td>\n",
       "      <td>Program('sub sub sub add mul $3 2.579156851168...</td>\n",
       "    </tr>\n",
       "    <tr>\n",
       "      <th>11</th>\n",
       "      <td>3.717481</td>\n",
       "      <td>26</td>\n",
       "      <td>Program('mul sub sub sub add mul $3 2.56103850...</td>\n",
       "    </tr>\n",
       "    <tr>\n",
       "      <th>12</th>\n",
       "      <td>3.666787</td>\n",
       "      <td>32</td>\n",
       "      <td>Program('sub sub add sub add mul $3 2.57915685...</td>\n",
       "    </tr>\n",
       "    <tr>\n",
       "      <th>13</th>\n",
       "      <td>3.648741</td>\n",
       "      <td>35</td>\n",
       "      <td>Program('sub sub sub sub add mul $3 2.56103850...</td>\n",
       "    </tr>\n",
       "    <tr>\n",
       "      <th>14</th>\n",
       "      <td>3.647896</td>\n",
       "      <td>38</td>\n",
       "      <td>Program('sub sub sub sub add mul $3 2.57915685...</td>\n",
       "    </tr>\n",
       "    <tr>\n",
       "      <th>15</th>\n",
       "      <td>3.573286</td>\n",
       "      <td>39</td>\n",
       "      <td>Program('sub sub sub sub add mul $3 2.57915685...</td>\n",
       "    </tr>\n",
       "    <tr>\n",
       "      <th>16</th>\n",
       "      <td>3.571678</td>\n",
       "      <td>41</td>\n",
       "      <td>Program('sub sub sub sub add mul $3 2.57915685...</td>\n",
       "    </tr>\n",
       "    <tr>\n",
       "      <th>17</th>\n",
       "      <td>3.523707</td>\n",
       "      <td>46</td>\n",
       "      <td>Program('sub sub sub sub add mul $3 2.57915685...</td>\n",
       "    </tr>\n",
       "  </tbody>\n",
       "</table>\n",
       "</div>"
      ],
      "text/plain": [
       "       error  complexity                                            program\n",
       "0   6.288947           1                                   Program('$3', 5)\n",
       "1   5.331228           3             Program('mul $3 2.798416176703998', 5)\n",
       "2   4.470617           5  Program('add 2.9426000719414342 mul $3 2.56103...\n",
       "3   4.470482           7  Program('sub add mul $3 2.554602684260752 3.11...\n",
       "4   4.136513          10  Program('sub add mul $3 2.5791568511681957 3.1...\n",
       "5   4.128330          12  Program('mul sub add mul $3 2.5791568511681957...\n",
       "6   4.092661          14  Program('sub add mul $3 2.5791568511681957 2.9...\n",
       "7   4.002142          15  Program('sub sub add 2.9426000719414342 mul $3...\n",
       "8   3.861715          17  Program('sub sub add mul $3 2.554602684260752 ...\n",
       "9   3.852002          19  Program('sub sub sub add mul $3 2.328556239444...\n",
       "10  3.751074          22  Program('sub sub sub add mul $3 2.579156851168...\n",
       "11  3.717481          26  Program('mul sub sub sub add mul $3 2.56103850...\n",
       "12  3.666787          32  Program('sub sub add sub add mul $3 2.57915685...\n",
       "13  3.648741          35  Program('sub sub sub sub add mul $3 2.56103850...\n",
       "14  3.647896          38  Program('sub sub sub sub add mul $3 2.57915685...\n",
       "15  3.573286          39  Program('sub sub sub sub add mul $3 2.57915685...\n",
       "16  3.571678          41  Program('sub sub sub sub add mul $3 2.57915685...\n",
       "17  3.523707          46  Program('sub sub sub sub add mul $3 2.57915685..."
      ]
     },
     "execution_count": 23,
     "metadata": {},
     "output_type": "execute_result"
    }
   ],
   "source": [
    "df = pd.DataFrame(r.results())\n",
    "df"
   ]
  },
  {
   "cell_type": "code",
   "execution_count": 24,
   "id": "603a8da3-f333-4be8-a08d-edd4fe27fd21",
   "metadata": {
    "tags": []
   },
   "outputs": [
    {
     "data": {
      "text/plain": [
       "Program('sub sub add mul $3 2.554602684260752 3.5147467176904237 rec add 3.0 sub 0.6931471805599453 $0 rec sub 3.0 $3', 5)"
      ]
     },
     "execution_count": 24,
     "metadata": {},
     "output_type": "execute_result"
    }
   ],
   "source": [
    "df.loc[8,'program']"
   ]
  },
  {
   "cell_type": "code",
   "execution_count": null,
   "id": "9e7d266d-e4d9-4942-9369-90a7013e2e7c",
   "metadata": {},
   "outputs": [],
   "source": []
  }
 ],
 "metadata": {
  "kernelspec": {
   "display_name": "Python 3 (ipykernel)",
   "language": "python",
   "name": "python3"
  },
  "language_info": {
   "codemirror_mode": {
    "name": "ipython",
    "version": 3
   },
   "file_extension": ".py",
   "mimetype": "text/x-python",
   "name": "python",
   "nbconvert_exporter": "python",
   "pygments_lexer": "ipython3",
   "version": "3.8.16"
  }
 },
 "nbformat": 4,
 "nbformat_minor": 5
}
